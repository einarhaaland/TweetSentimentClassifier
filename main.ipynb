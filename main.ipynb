{
 "cells": [
  {
   "cell_type": "code",
   "execution_count": 1,
   "metadata": {},
   "outputs": [
    {
     "name": "stderr",
     "output_type": "stream",
     "text": [
      "[nltk_data] Downloading package stopwords to C:\\Users\\Einar\n",
      "[nltk_data]     Haaland\\AppData\\Roaming\\nltk_data...\n",
      "[nltk_data]   Package stopwords is already up-to-date!\n",
      "[nltk_data] Downloading package wordnet to C:\\Users\\Einar\n",
      "[nltk_data]     Haaland\\AppData\\Roaming\\nltk_data...\n",
      "[nltk_data]   Package wordnet is already up-to-date!\n",
      "[nltk_data] Downloading package punkt to C:\\Users\\Einar\n",
      "[nltk_data]     Haaland\\AppData\\Roaming\\nltk_data...\n",
      "[nltk_data]   Package punkt is already up-to-date!\n"
     ]
    }
   ],
   "source": [
    "import numpy as np\n",
    "import pandas as pd\n",
    "import nltk\n",
    "nltk.download('stopwords')\n",
    "nltk.download('wordnet')\n",
    "nltk.download('punkt')\n",
    "from nltk import sent_tokenize, word_tokenize\n",
    "from nltk.stem import PorterStemmer\n",
    "from nltk.stem.wordnet import WordNetLemmatizer\n",
    "from nltk.corpus import stopwords\n",
    "\n",
    "data = pd.read_csv('Tweets.csv')"
   ]
  },
  {
   "cell_type": "code",
   "execution_count": 2,
   "metadata": {},
   "outputs": [],
   "source": [
    "#drop duplicates and irrelevant columns\n",
    "data = data.drop_duplicates()\n",
    "data = data.drop(['airline_sentiment_gold', 'negativereason_gold'], axis=1)"
   ]
  },
  {
   "cell_type": "code",
   "execution_count": 3,
   "metadata": {},
   "outputs": [],
   "source": [
    "#remove stopwords\n",
    "stop = stopwords.words('english')\n",
    "data['text'].replace(to_replace='I', value=\"\",regex=True)\n",
    "for i in stop :\n",
    "    data['text'] = data['text'].replace(to_replace=r'\\b%s\\b'%i, value=\"\",regex=True)"
   ]
  },
  {
   "cell_type": "code",
   "execution_count": 4,
   "metadata": {},
   "outputs": [],
   "source": [
    "#remove everything but a-z\n",
    "data['text'] = data['text'].str.replace(\"[^A-Za-z ]\", '')"
   ]
  },
  {
   "cell_type": "code",
   "execution_count": 5,
   "metadata": {},
   "outputs": [],
   "source": [
    "#make every tweet into list of words\n",
    "data['text'] = data.apply(lambda row: nltk.word_tokenize(row['text']), axis=1)"
   ]
  },
  {
   "cell_type": "code",
   "execution_count": 6,
   "metadata": {},
   "outputs": [],
   "source": [
    "#stem all words\n",
    "sno = nltk.SnowballStemmer(\"english\")\n",
    "data['text'] = [[sno.stem(word) for word in tweet] for tweet in data['text']]"
   ]
  },
  {
   "cell_type": "code",
   "execution_count": 7,
   "metadata": {},
   "outputs": [],
   "source": [
    "#split into train and test\n",
    "from sklearn.model_selection import train_test_split\n",
    "xTrain, xTest, yTrain, yTest = train_test_split(data['text'], data['airline_sentiment'], test_size = 0.2)"
   ]
  },
  {
   "cell_type": "code",
   "execution_count": 8,
   "metadata": {},
   "outputs": [],
   "source": [
    "#make vocab\n",
    "vocab = {}\n",
    "for tweet in xTrain:\n",
    "    for word in tweet:\n",
    "        if word in vocab:\n",
    "            vocab[word] += 1\n",
    "        else:\n",
    "            vocab[word] = 1"
   ]
  },
  {
   "cell_type": "code",
   "execution_count": 9,
   "metadata": {},
   "outputs": [],
   "source": [
    "#group training set by sentiment class\n",
    "grouped = xTrain.groupby(yTrain)\n",
    "\n",
    "#prior probability for each sentiment class\n",
    "pos_prob = (len(grouped.get_group('positive'))) / len(yTrain)\n",
    "neg_prob = (len(grouped.get_group('negative'))) / len(yTrain)\n",
    "neu_prob = (len(grouped.get_group('neutral'))) / len(yTrain)"
   ]
  },
  {
   "cell_type": "code",
   "execution_count": 10,
   "metadata": {},
   "outputs": [],
   "source": [
    "#make dict for total number of words in each sentiment class\n",
    "total_words_in_sentiment = {'positive' : 0, 'negative' : 0, 'neutral' : 0}\n",
    "for sentiment in total_words_in_sentiment.keys():\n",
    "    for tweet in grouped.get_group(sentiment):\n",
    "            for word in tweet:\n",
    "                total_words_in_sentiment[sentiment] += 1\n",
    "\n",
    "def get_likelihood(word, sentiment):\n",
    "    count = 0\n",
    "    for tweet in grouped.get_group(sentiment):\n",
    "        for index in tweet:\n",
    "            if index == word:\n",
    "                count += 1\n",
    "    return count / total_words_in_sentiment[sentiment]"
   ]
  },
  {
   "cell_type": "code",
   "execution_count": 11,
   "metadata": {},
   "outputs": [],
   "source": [
    "#this function can also be used as a command line utility when given tweet in format ['This', 'is', 'a', 'tweet']\n",
    "#note that words in given tweet will not be stemmed or cleaned in any other way, this might affect the result\n",
    "def predict_tweet(tweet):\n",
    "    #set each to 1 to avoid affecting multiplying\n",
    "    positive = 1\n",
    "    negative = 1\n",
    "    neutral = 1\n",
    "    for word in tweet:\n",
    "        if word in vocab:\n",
    "            positive *= get_likelihood(word, 'positive')\n",
    "            negative *= get_likelihood(word, 'negative')\n",
    "            neutral *= get_likelihood(word, 'neutral')\n",
    "    positive *= pos_prob\n",
    "    negative *= neg_prob\n",
    "    neutral *= neu_prob\n",
    "    if max(positive, negative, neutral) == positive:\n",
    "        return 'positive'\n",
    "    elif max(positive, negative, neutral) == negative:\n",
    "        return 'negative'\n",
    "    else:\n",
    "        return 'neutral'\n",
    "\n",
    "def predict(set_of_tweets):\n",
    "    result = []\n",
    "    for tweet in set_of_tweets:\n",
    "        result.append(predict_tweet(tweet))\n",
    "    return result"
   ]
  },
  {
   "cell_type": "code",
   "execution_count": 12,
   "metadata": {},
   "outputs": [],
   "source": [
    "#run prediction on test-set. process takes several minutes..\n",
    "yPred = predict(xTest)"
   ]
  },
  {
   "cell_type": "code",
   "execution_count": 13,
   "metadata": {},
   "outputs": [
    {
     "name": "stdout",
     "output_type": "stream",
     "text": [
      "0.7226977062649778\n",
      "error rate: 0.27730229373502224\n"
     ]
    }
   ],
   "source": [
    "#check accuracy on test set\n",
    "from sklearn.metrics import accuracy_score\n",
    "print(accuracy_score(yTest, yPred))\n",
    "print(\"error rate:\", 1.0 - accuracy_score(yTest, yPred))"
   ]
  },
  {
   "cell_type": "code",
   "execution_count": 14,
   "metadata": {},
   "outputs": [],
   "source": [
    "def explanation_generator(tweet):\n",
    "    prediction = predict_tweet(tweet)\n",
    "    for word in tweet:\n",
    "        if word in vocab:\n",
    "            pos = get_likelihood(word, 'positive') \n",
    "            neg = get_likelihood(word, 'negative')\n",
    "            neu = get_likelihood(word, 'neutral')\n",
    "            if max(pos, neg, neu) == pos:\n",
    "                print(word, ': mostly used in positive tweets')\n",
    "            elif max(pos, neg, neu) == neg:\n",
    "                print(word, ': mostly used in negative tweets')\n",
    "            else:\n",
    "                print(word, ': mostly used in neutral tweets')\n",
    "        else:\n",
    "            print(word, ': of unknown sentiment')\n",
    "    print('all of this classifies the tweet as:', prediction)"
   ]
  },
  {
   "cell_type": "code",
   "execution_count": 15,
   "metadata": {},
   "outputs": [],
   "source": [
    "incorrect_pred = []\n",
    "correct_pred = []"
   ]
  },
  {
   "cell_type": "code",
   "execution_count": 16,
   "metadata": {},
   "outputs": [],
   "source": [
    "#fill incorrect_pred and correct_pred with two tweets each\n",
    "for i in range(len(yTest)):\n",
    "    if len(incorrect_pred) >= 2 and len(correct_pred) >= 2:\n",
    "        break\n",
    "    if i in yTest.index:\n",
    "        if yTest[i] == yPred[i] and len(correct_pred) < 2:\n",
    "            correct_pred.append(xTest[i])\n",
    "        elif yTest[i] != yPred[i] and len(incorrect_pred) < 2:\n",
    "            incorrect_pred.append(xTest[i])"
   ]
  },
  {
   "cell_type": "code",
   "execution_count": 17,
   "metadata": {},
   "outputs": [
    {
     "name": "stdout",
     "output_type": "stream",
     "text": [
      "virginamerica : mostly used in positive tweets\n",
      "yes : mostly used in positive tweets\n",
      "near : mostly used in negative tweets\n",
      "everi : mostly used in negative tweets\n",
      "time : mostly used in negative tweets\n",
      "i : mostly used in neutral tweets\n",
      "fli : mostly used in positive tweets\n",
      "vx : mostly used in neutral tweets\n",
      "ear : mostly used in negative tweets\n",
      "worm : of unknown sentiment\n",
      "go : mostly used in neutral tweets\n",
      "away : mostly used in negative tweets\n",
      "all of this classifies the tweet as: negative\n"
     ]
    }
   ],
   "source": [
    "#explain first incorrectly predicted tweet\n",
    "explanation_generator(incorrect_pred[0])"
   ]
  },
  {
   "cell_type": "code",
   "execution_count": 18,
   "metadata": {},
   "outputs": [
    {
     "name": "stdout",
     "output_type": "stream",
     "text": [
      "virginamerica : mostly used in positive tweets\n",
      "i : mostly used in neutral tweets\n",
      "lt : mostly used in positive tweets\n",
      "pretti : mostly used in positive tweets\n",
      "graphic : mostly used in positive tweets\n",
      "much : mostly used in positive tweets\n",
      "better : mostly used in positive tweets\n",
      "minim : of unknown sentiment\n",
      "iconographi : of unknown sentiment\n",
      "d : mostly used in positive tweets\n",
      "all of this classifies the tweet as: positive\n"
     ]
    }
   ],
   "source": [
    "#explain first incorrectly predicted tweet\n",
    "explanation_generator(incorrect_pred[1])"
   ]
  },
  {
   "cell_type": "code",
   "execution_count": 19,
   "metadata": {},
   "outputs": [
    {
     "name": "stdout",
     "output_type": "stream",
     "text": [
      "virginamerica : mostly used in positive tweets\n",
      "sfopdx : of unknown sentiment\n",
      "schedul : mostly used in neutral tweets\n",
      "still : mostly used in negative tweets\n",
      "mia : mostly used in negative tweets\n",
      "all of this classifies the tweet as: negative\n"
     ]
    }
   ],
   "source": [
    "#explain first correctly predicted tweet\n",
    "explanation_generator(correct_pred[0])"
   ]
  },
  {
   "cell_type": "code",
   "execution_count": 20,
   "metadata": {},
   "outputs": [
    {
     "name": "stdout",
     "output_type": "stream",
     "text": [
      "virginamerica : mostly used in positive tweets\n",
      "i : mostly used in neutral tweets\n",
      "lt : mostly used in positive tweets\n",
      "pretti : mostly used in positive tweets\n",
      "graphic : mostly used in positive tweets\n",
      "much : mostly used in positive tweets\n",
      "better : mostly used in positive tweets\n",
      "minim : of unknown sentiment\n",
      "iconographi : of unknown sentiment\n",
      "d : mostly used in positive tweets\n",
      "all of this classifies the tweet as: positive\n"
     ]
    }
   ],
   "source": [
    "#explain first correctly predicted tweet\n",
    "explanation_generator(incorrect_pred[1])"
   ]
  },
  {
   "cell_type": "code",
   "execution_count": null,
   "metadata": {},
   "outputs": [],
   "source": []
  }
 ],
 "metadata": {
  "kernelspec": {
   "display_name": "Python 3",
   "language": "python",
   "name": "python3"
  },
  "language_info": {
   "codemirror_mode": {
    "name": "ipython",
    "version": 3
   },
   "file_extension": ".py",
   "mimetype": "text/x-python",
   "name": "python",
   "nbconvert_exporter": "python",
   "pygments_lexer": "ipython3",
   "version": "3.7.4"
  }
 },
 "nbformat": 4,
 "nbformat_minor": 2
}
